{
 "cells": [
  {
   "cell_type": "markdown",
   "metadata": {},
   "source": [
    "# Basic Python Syntax:"
   ]
  },
  {
   "cell_type": "code",
   "execution_count": 3,
   "metadata": {},
   "outputs": [
    {
     "name": "stdout",
     "output_type": "stream",
     "text": [
      "[0 2 4 6 8 10 12 14 16 18 ]\n"
     ]
    }
   ],
   "source": [
    "#Using a hashtag is how you write a comment\n",
    "\n",
    "a = 2 #Comments can also be written after a line   \n",
    "\n",
    "#One way of continuing code to the next line, using ().\n",
    "b = (9 + 8 + 7 + 6 +\n",
    "     5 + 4 + 3 + 2) #Note how spaces exist within this line, does not affect code\n",
    "\n",
    "c = 7; d = 4 #Essentially the same as writing these two statements on two lines\n",
    "print('[',end='')\n",
    "for i in range(20): #When writing code blocks, colons and indentation is needed to\n",
    "    if i % 2 == 0:  #properly structure the block\n",
    "        print(i, end=' ')\n",
    "print(']')       "
   ]
  },
  {
   "cell_type": "code",
   "execution_count": 4,
   "metadata": {},
   "outputs": [
    {
     "name": "stdout",
     "output_type": "stream",
     "text": [
      "e = 3\n"
     ]
    }
   ],
   "source": [
    "#Parenthesis can denote both calling functions and grouping\n",
    "e = 1 + (3-2) * 2 #Grouping\n",
    "print('e =',e)    #Function\n",
    "\n",
    "#Print needs () for Python 3"
   ]
  },
  {
   "cell_type": "markdown",
   "metadata": {},
   "source": [
    "# Variables and Objects:"
   ]
  },
  {
   "cell_type": "code",
   "execution_count": 28,
   "metadata": {},
   "outputs": [
    {
     "name": "stdout",
     "output_type": "stream",
     "text": [
      "x = taco\n",
      "x is a: <class 'str'>\n",
      "old y = [7, 11, 13]\n",
      "new y = [7, 11, 13, 17]\n",
      "y is a: <class 'list'>\n"
     ]
    }
   ],
   "source": [
    "x = [7, 11, 13]     # x is pointing to list\n",
    "y = x               # y points to x's value\n",
    "x = 'taco'          # x is pointing to string\n",
    "          \n",
    "print('x =',x)\n",
    "print('x is a:',type(x)) #Determines x's type\n",
    "\n",
    "print('old y =',y)\n",
    "y.append(17)        # append adds value to list\n",
    "print('new y =',y)\n",
    "print('y is a:',type(y)) #Determines x's type"
   ]
  },
  {
   "cell_type": "markdown",
   "metadata": {},
   "source": [
    "# Operators:"
   ]
  },
  {
   "cell_type": "markdown",
   "metadata": {},
   "source": [
    "### Arithmetic Operations"
   ]
  },
  {
   "cell_type": "code",
   "execution_count": 5,
   "metadata": {},
   "outputs": [
    {
     "name": "stdout",
     "output_type": "stream",
     "text": [
      "Addition = 9, Subtraction = 5, Multiplication = 14, True Division = 3.5\n",
      "Floor Division = 3, Modulus = 1, Exponentiation = 49, Negation = -7\n"
     ]
    }
   ],
   "source": [
    "a = 7\n",
    "b = 2\n",
    "\n",
    "print(f\"Addition = {a + b}\",end=', ')\n",
    "print(f\"Subtraction = {a - b}\",end=', ')\n",
    "print(f\"Multiplication = {a * b}\",end=', ')\n",
    "print(f\"True Division = {a / b}\")\n",
    "print(f\"Floor Division = {a // b}\",end=', ')\n",
    "print(f\"Modulus = {a % b}\",end=', ')\n",
    "print(f\"Exponentiation = {a ** b}\",end=', ')\n",
    "print(f\"Negation = {-a}\")\n",
    "\n"
   ]
  },
  {
   "cell_type": "markdown",
   "metadata": {},
   "source": [
    "### Bitwise Operations"
   ]
  },
  {
   "cell_type": "code",
   "execution_count": 52,
   "metadata": {},
   "outputs": [
    {
     "name": "stdout",
     "output_type": "stream",
     "text": [
      "AND = 2\n",
      "OR = 7\n",
      "XOR = 5\n",
      "Bit shift left = 28\n",
      "Bit shift right = 1\n",
      "Not = -8\n"
     ]
    }
   ],
   "source": [
    "print(f\"AND = {a & b}\")\n",
    "print(f\"OR = {a | b}\")\n",
    "print(f\"XOR = {a ^ b}\")\n",
    "print(f\"Bit shift left = {a << b}\")\n",
    "print(f\"Bit shift right = {a >> b}\")\n",
    "print(f\"Not = {~a}\")"
   ]
  },
  {
   "cell_type": "markdown",
   "metadata": {},
   "source": [
    "### Comparison Operations"
   ]
  },
  {
   "cell_type": "code",
   "execution_count": 10,
   "metadata": {},
   "outputs": [
    {
     "name": "stdout",
     "output_type": "stream",
     "text": [
      "C is in between A and B = True\n",
      "A is odd = True\n",
      "A is even = False\n",
      "A is equal to B = False\n",
      "A is not equal to B = True\n",
      "A is less than B = False\n",
      "A is greater than B = True\n",
      "A is less than or equal to B = False\n",
      "A is greater than or equal to B = True\n"
     ]
    }
   ],
   "source": [
    "c = 5\n",
    "print(f\"C is in between A and B = {b < c < a}\")\n",
    "\n",
    "print(f\"A is odd = {a % b == 1}\")\n",
    "print(f\"A is even = {a % b == 0}\")\n",
    "\n",
    "print(f\"A is equal to B = {a == b}\")\n",
    "print(f\"A is not equal to B = {a != b}\")\n",
    "print(f\"A is less than B = {a < b}\")\n",
    "print(f\"A is greater than B = {a > b}\")\n",
    "print(f\"A is less than or equal to B = {a <= b}\")\n",
    "print(f\"A is greater than or equal to B = {a >= b}\")"
   ]
  },
  {
   "cell_type": "markdown",
   "metadata": {},
   "source": [
    "### Boolean Operations"
   ]
  },
  {
   "cell_type": "code",
   "execution_count": 65,
   "metadata": {},
   "outputs": [
    {
     "name": "stdout",
     "output_type": "stream",
     "text": [
      "AND = False\n",
      "OR = True\n",
      "Not = True\n"
     ]
    }
   ],
   "source": [
    "print(f\"AND = {(a < 9) and (b > 3)}\")\n",
    "print(f\"OR = {(a < 9) or (b > 3)}\")\n",
    "print(f\"Not = { not (b > 3)}\")"
   ]
  },
  {
   "cell_type": "markdown",
   "metadata": {},
   "source": [
    "### Identity and Membership Operators  "
   ]
  },
  {
   "cell_type": "code",
   "execution_count": 74,
   "metadata": {},
   "outputs": [
    {
     "name": "stdout",
     "output_type": "stream",
     "text": [
      "A is the same as B = False\n",
      "A is different than B = True\n",
      "4 is located in B = True\n",
      "2 is not located in B = False\n"
     ]
    }
   ],
   "source": [
    "a = [0, 2, 4, 6, 8]\n",
    "b = [3, 4, 5, 6, 7]\n",
    "\n",
    "print(f\"A is the same as B = {a is b}\")\n",
    "print(f\"A is different than B = {a is not b}\")\n",
    "\n",
    "print(f\"4 is located in B = {4 in b}\")\n",
    "print(f\"2 is not located in B = {4 not in b}\")"
   ]
  },
  {
   "cell_type": "markdown",
   "metadata": {},
   "source": [
    "# Built-In Values"
   ]
  },
  {
   "cell_type": "code",
   "execution_count": 87,
   "metadata": {},
   "outputs": [
    {
     "name": "stdout",
     "output_type": "stream",
     "text": [
      "The real part of A is = 2.0\n",
      "The imaginary part of A is = -3.0\n",
      "The conjugate of A is = (2+3j)\n",
      "The absolute value of A is = 3.605551275463989\n",
      "The length of the string is = 12\n"
     ]
    }
   ],
   "source": [
    "a = complex(2, -3)\n",
    "string = \"I like tacos\"\n",
    "\n",
    "\n",
    "print(f\"The real part of A is = {a.real}\")\n",
    "print(f\"The imaginary part of A is = {a.imag}\")\n",
    "print(f\"The conjugate of A is = {a.conjugate()}\")\n",
    "print(f\"The absolute value of A is = {abs(a)}\")\n",
    "\n",
    "print(f\"The length of the string is = {len(string)}\")"
   ]
  },
  {
   "cell_type": "markdown",
   "metadata": {},
   "source": [
    "# Built-In Data Structures"
   ]
  },
  {
   "cell_type": "markdown",
   "metadata": {},
   "source": [
    "### List indexing and slicing"
   ]
  },
  {
   "cell_type": "code",
   "execution_count": 8,
   "metadata": {},
   "outputs": [
    {
     "name": "stdout",
     "output_type": "stream",
     "text": [
      "The second value in the list is = tacos\n",
      "The last value in the list is = [1, 2, 3]\n",
      "The first three values in the list are = [7, 'tacos', 5.5]\n",
      "The new list is = [7, 3.14, 21, 'burrito', [1, 2, 3]]\n"
     ]
    }
   ],
   "source": [
    "L = [7, 'tacos', 5.5, [1, 2, 3]]    #This is a list \n",
    "\n",
    "print(f\"The second value in the list is = {L[1]}\")\n",
    "print(f\"The last value in the list is = {L[-1]}\")\n",
    "print(f\"The first three values in the list are = {L[:3]}\")\n",
    "\n",
    "L[1:3] = [3.14, 21, 'burrito']\n",
    "\n",
    "print(f\"The new list is = {L}\")"
   ]
  },
  {
   "cell_type": "markdown",
   "metadata": {},
   "source": [
    "### Tuples"
   ]
  },
  {
   "cell_type": "code",
   "execution_count": 103,
   "metadata": {},
   "outputs": [
    {
     "name": "stdout",
     "output_type": "stream",
     "text": [
      "The length of the tuple is = 4\n",
      "The integer ratio = (5, 8)\n"
     ]
    }
   ],
   "source": [
    "t = (7, 6, 5, 4)    #This is a tuple, you can't change a tuple\n",
    "x = 0.625\n",
    "print(f\"The length of the tuple is = {len(t)}\")\n",
    "\n",
    "print(f\"The integer ratio = {x.as_integer_ratio()}\")"
   ]
  },
  {
   "cell_type": "markdown",
   "metadata": {},
   "source": [
    "### Dictionaries"
   ]
  },
  {
   "cell_type": "code",
   "execution_count": 107,
   "metadata": {},
   "outputs": [
    {
     "name": "stdout",
     "output_type": "stream",
     "text": [
      "The library of Sevens = {'seven': 7, 'fourteen': 14, 'twenty one': 21}\n",
      "The updated library of Sevens = {'seven': 7, 'fourteen': 14, 'twenty one': 21, 'twenty eight': 28}\n"
     ]
    }
   ],
   "source": [
    "sevens = {'seven':7, 'fourteen':14, 'twenty one':21}\n",
    "print(f\"The library of Sevens = {sevens}\")\n",
    "\n",
    "sevens['twenty eight'] = 28\n",
    "print(f\"The updated library of Sevens = {sevens}\")"
   ]
  },
  {
   "cell_type": "markdown",
   "metadata": {},
   "source": [
    "### Sets"
   ]
  },
  {
   "cell_type": "code",
   "execution_count": 113,
   "metadata": {},
   "outputs": [
    {
     "name": "stdout",
     "output_type": "stream",
     "text": [
      "Items appearing in either = {3, 4, 6, 8, 9, 12, 15, 16, 18, 20, 21, 24}\n",
      "Items appearing in both= {24, 12}\n",
      "Items in three and not four = {3, 6, 9, 15, 18, 21}\n",
      "Items appearing in only one set = {3, 4, 6, 8, 9, 15, 16, 18, 20, 21}\n"
     ]
    }
   ],
   "source": [
    "threes = {3, 6, 9, 12, 15, 18, 21, 24}\n",
    "fours = {4, 8, 12, 16, 20, 24}\n",
    "\n",
    "print(f\"Items appearing in either = {threes.union(fours)}\")\n",
    "print(f\"Items appearing in both= {threes.intersection(fours)}\")\n",
    "print(f\"Items in three and not four = {threes.difference(fours)}\")\n",
    "print(f\"Items appearing in only one set = {threes.symmetric_difference(fours)}\")"
   ]
  },
  {
   "cell_type": "markdown",
   "metadata": {},
   "source": [
    "# Control Flow"
   ]
  },
  {
   "cell_type": "markdown",
   "metadata": {},
   "source": [
    "### If/Else Statement"
   ]
  },
  {
   "cell_type": "code",
   "execution_count": 11,
   "metadata": {},
   "outputs": [
    {
     "name": "stdout",
     "output_type": "stream",
     "text": [
      "77 is an odd number\n"
     ]
    }
   ],
   "source": [
    "user_select = int(input(\"Select an number:\"))\n",
    "\n",
    "if user_select % 2 == 0:\n",
    "    print(user_select, \"is an even number\")\n",
    "else:\n",
    "    print(user_select, \"is an odd number\")"
   ]
  },
  {
   "cell_type": "markdown",
   "metadata": {},
   "source": [
    "### For Loop"
   ]
  },
  {
   "cell_type": "code",
   "execution_count": 12,
   "metadata": {},
   "outputs": [
    {
     "name": "stdout",
     "output_type": "stream",
     "text": [
      "The first letter in each cell of the string is: Z\n",
      "The first letter in each cell of the string is: J\n",
      "The first letter in each cell of the string is: W\n",
      "The first letter in each cell of the string is: C\n",
      "The first letter in each cell of the string is: M\n"
     ]
    }
   ],
   "source": [
    "for N in ['Zach', 'John', 'Wesley', 'Colin', 'Michael']:\n",
    "    print(f\"The first letter in each cell of the string is: {N[0]}\")\n",
    "    "
   ]
  },
  {
   "cell_type": "markdown",
   "metadata": {},
   "source": [
    "### While Loops"
   ]
  },
  {
   "cell_type": "code",
   "execution_count": 17,
   "metadata": {},
   "outputs": [
    {
     "name": "stdout",
     "output_type": "stream",
     "text": [
      "1 2 3 4 6 7 8 9 11 12 13 14 16 17 18 19 "
     ]
    }
   ],
   "source": [
    "x = 0\n",
    "# Numbers that are divisible by 5 are skipped\n",
    "while True:\n",
    "    x += 1\n",
    "    if x % 5 == 0:\n",
    "        continue\n",
    "    elif x > 20:\n",
    "        break\n",
    "    else:\n",
    "        print(x, end=' ')\n"
   ]
  },
  {
   "cell_type": "markdown",
   "metadata": {},
   "source": [
    "# Defining and Using Functions"
   ]
  },
  {
   "cell_type": "markdown",
   "metadata": {},
   "source": [
    "### Define Functions"
   ]
  },
  {
   "cell_type": "code",
   "execution_count": 18,
   "metadata": {},
   "outputs": [
    {
     "name": "stdout",
     "output_type": "stream",
     "text": [
      "Hello Programmer\n",
      "What would you like to do?\n"
     ]
    }
   ],
   "source": [
    "def greeting():\n",
    "    print('Hello Programmer')\n",
    "    print('What would you like to do?')\n",
    "\n",
    "greeting()"
   ]
  },
  {
   "cell_type": "code",
   "execution_count": 24,
   "metadata": {},
   "outputs": [
    {
     "data": {
      "text/plain": [
       "[5, 7, 12, 19, 31, 50, 81, 131, 212, 343]"
      ]
     },
     "execution_count": 24,
     "metadata": {},
     "output_type": "execute_result"
    }
   ],
   "source": [
    "def fibonacci(N, a, b):\n",
    "    L = []\n",
    "    while len(L) < N:\n",
    "        (a, b) = (b, a + b)\n",
    "        L.append(a)\n",
    "    return L\n",
    "\n",
    "fibonacci(10, 2, 5)"
   ]
  },
  {
   "cell_type": "code",
   "execution_count": 36,
   "metadata": {},
   "outputs": [
    {
     "data": {
      "text/plain": [
       "[{'name': 'John Wesley', 'height': 70, 'BY': 1998},\n",
       " {'name': 'Michael', 'height': 75, 'BY': 1999},\n",
       " {'name': 'Zach', 'height': 72, 'BY': 2000},\n",
       " {'name': 'Colin', 'height': 74, 'BY': 2001}]"
      ]
     },
     "execution_count": 36,
     "metadata": {},
     "output_type": "execute_result"
    }
   ],
   "source": [
    "info = [{'name':'Zach',         'height':72,    'BY':2000},\n",
    "        {'name':'John Wesley',  'height':70,    'BY':1998},\n",
    "        {'name':'Colin',        'height':74,    'BY':2001},\n",
    "        {'name':'Michael',      'height':75,    'BY':1999}]\n",
    "\n",
    "user_input = input('Name sorting option')\n",
    "sorted(info, key=lambda item: item[user_input])"
   ]
  },
  {
   "cell_type": "markdown",
   "metadata": {},
   "source": [
    "# Errors and Exceptions"
   ]
  },
  {
   "cell_type": "markdown",
   "metadata": {},
   "source": [
    "### Try and Except"
   ]
  },
  {
   "cell_type": "code",
   "execution_count": 18,
   "metadata": {},
   "outputs": [
    {
     "name": "stdout",
     "output_type": "stream",
     "text": [
      "Not a number! <class 'ValueError'>\n"
     ]
    }
   ],
   "source": [
    "def input_handle(user_select):\n",
    "    if not user_select.isdigit():\n",
    "        raise ValueError\n",
    "    return int(user_select)\n",
    "    \n",
    "user_select = (input(\"Select an number:\"))\n",
    "\n",
    "try:\n",
    "    print(input_handle(user_select), \"is a number\")\n",
    "except ValueError as err:\n",
    "    print(\"Not a number!\", type(err))\n",
    "    "
   ]
  },
  {
   "cell_type": "markdown",
   "metadata": {},
   "source": [
    "# Iterators"
   ]
  },
  {
   "cell_type": "markdown",
   "metadata": {},
   "source": [
    "### Enumerate"
   ]
  },
  {
   "cell_type": "code",
   "execution_count": 41,
   "metadata": {},
   "outputs": [
    {
     "name": "stdout",
     "output_type": "stream",
     "text": [
      "The best Mexican food in order is:\n",
      "1 Burrito\n",
      "2 Quesadilla\n",
      "3 Taco\n",
      "4 Tamale\n"
     ]
    }
   ],
   "source": [
    "L = ['Burrito', 'Quesadilla', 'Taco', 'Tamale']\n",
    "print(\"The best Mexican food in order is:\")\n",
    "for i, val in enumerate(L):\n",
    "    print(i+1, val)"
   ]
  },
  {
   "cell_type": "markdown",
   "metadata": {},
   "source": [
    "### Zip"
   ]
  },
  {
   "cell_type": "code",
   "execution_count": 83,
   "metadata": {},
   "outputs": [
    {
     "name": "stdout",
     "output_type": "stream",
     "text": [
      "The car/country pairs are:\n",
      "Mazda made in Japan\n",
      "Lamborghini made in Italy\n",
      "BMW made in Germany\n",
      "Tesla made in USA\n"
     ]
    }
   ],
   "source": [
    "car = ['Mazda', 'Lamborghini', 'BMW', 'Tesla']\n",
    "country = ['Japan', 'Italy', 'Germany', 'USA']\n",
    "print(\"The car/country pairs are:\")\n",
    "for L, R in zip(car, country):\n",
    "    print(L,'made in', R)"
   ]
  },
  {
   "cell_type": "code",
   "execution_count": 92,
   "metadata": {},
   "outputs": [
    {
     "name": "stdout",
     "output_type": "stream",
     "text": [
      "The car/country pairs are:\n",
      "('Mazda', 'Japan') ('Lamborghini', 'Italy') ('BMW', 'Germany') ('Tesla', 'USA')\n",
      "The original list are:\n",
      "('Mazda', 'Lamborghini', 'BMW', 'Tesla') ('Japan', 'Italy', 'Germany', 'USA')\n"
     ]
    }
   ],
   "source": [
    "C1 = ['Mazda', 'Lamborghini', 'BMW', 'Tesla']\n",
    "C2 = ['Japan', 'Italy', 'Germany', 'USA']\n",
    "print(\"The car/country pairs are:\")\n",
    "z = zip(C1, C2)\n",
    "print(*z)\n",
    "\n",
    "print('The original list are:')\n",
    "z = zip(C1, C2)\n",
    "new_C1, new_C2 = zip(*z)\n",
    "print(new_C1, new_C2)"
   ]
  },
  {
   "cell_type": "markdown",
   "metadata": {},
   "source": [
    "### Map and Filter"
   ]
  },
  {
   "cell_type": "code",
   "execution_count": 79,
   "metadata": {},
   "outputs": [
    {
     "name": "stdout",
     "output_type": "stream",
     "text": [
      "1 2 3 4 5 6 7 8 9 10 11 12 13 14 15 16 17 18 19 20 "
     ]
    }
   ],
   "source": [
    "#Increment counter\n",
    "increment = lambda x: x + 1\n",
    "for val in map(increment, range(20)):\n",
    "    print(val, end=' ')"
   ]
  },
  {
   "cell_type": "code",
   "execution_count": 80,
   "metadata": {},
   "outputs": [
    {
     "name": "stdout",
     "output_type": "stream",
     "text": [
      "The following values are multiples of five:\n",
      "0 5 10 15 20 25 30 35 40 45 50 55 60 65 70 75 80 85 90 95 "
     ]
    }
   ],
   "source": [
    "print(\"The following values are multiples of five:\")\n",
    "fives = lambda x: x % 5 == 0\n",
    "for val in filter(fives, range(100)):\n",
    "    print(val, end=' ')"
   ]
  },
  {
   "cell_type": "code",
   "execution_count": 82,
   "metadata": {},
   "outputs": [
    {
     "name": "stdout",
     "output_type": "stream",
     "text": [
      "1 2 3 4 5 6 7 8 9 10 11 12 13 14 15 16 17 18 19 20\n"
     ]
    }
   ],
   "source": [
    "#Compressed version of the map iterator\n",
    "print(*map(lambda x:x + 1, range(20)))"
   ]
  },
  {
   "cell_type": "markdown",
   "metadata": {},
   "source": [
    "# Specialized Iterators"
   ]
  },
  {
   "cell_type": "code",
   "execution_count": 28,
   "metadata": {},
   "outputs": [
    {
     "name": "stdout",
     "output_type": "stream",
     "text": [
      "(0, 1) (0, 2) (0, 3) (1, 0) (1, 2) (1, 3) (2, 0) (2, 1) (2, 3) (3, 0) (3, 1) (3, 2)\n"
     ]
    }
   ],
   "source": [
    "from itertools import permutations\n",
    "p = permutations(range(4), 2)      #Displays every two set combination from 0 to 3\n",
    "print(*p)"
   ]
  },
  {
   "cell_type": "code",
   "execution_count": 29,
   "metadata": {},
   "outputs": [
    {
     "name": "stdout",
     "output_type": "stream",
     "text": [
      "(0, 1) (0, 2) (0, 3) (1, 2) (1, 3) (2, 3)\n"
     ]
    }
   ],
   "source": [
    "from itertools import combinations\n",
    "c = combinations(range(4), 2)   #Displays only unique two set combinations of 0 to 3\n",
    "print(*c)"
   ]
  },
  {
   "cell_type": "code",
   "execution_count": 30,
   "metadata": {},
   "outputs": [
    {
     "name": "stdout",
     "output_type": "stream",
     "text": [
      "('c', 0) ('c', 1) ('o', 0) ('o', 1) ('d', 0) ('d', 1) ('e', 0) ('e', 1)\n"
     ]
    }
   ],
   "source": [
    "from itertools import product\n",
    "p = product('code', range(2))    #Displays pairs between two iterables\n",
    "print(*p)"
   ]
  },
  {
   "cell_type": "markdown",
   "metadata": {},
   "source": [
    "# List Comprehension"
   ]
  },
  {
   "cell_type": "markdown",
   "metadata": {},
   "source": [
    "### Basic List"
   ]
  },
  {
   "cell_type": "code",
   "execution_count": 32,
   "metadata": {},
   "outputs": [
    {
     "data": {
      "text/plain": [
       "[1, 3, 5, 7, 9, 11, 13, 15, 17, 19]"
      ]
     },
     "execution_count": 32,
     "metadata": {},
     "output_type": "execute_result"
    }
   ],
   "source": [
    "[n + 1 for n in range(20) if n % 2 == 0] #Very quick way to find only odd numbers"
   ]
  },
  {
   "cell_type": "markdown",
   "metadata": {},
   "source": [
    "### Multiple List"
   ]
  },
  {
   "cell_type": "code",
   "execution_count": 37,
   "metadata": {},
   "outputs": [
    {
     "data": {
      "text/plain": [
       "[(0, 0), (1, 1), (2, 2), (3, 3), (4, 4), (5, 5), (6, 6)]"
      ]
     },
     "execution_count": 37,
     "metadata": {},
     "output_type": "execute_result"
    }
   ],
   "source": [
    "[(x, y) for x in range(7) for y in range(7) if x == y] #Finds only like pairs"
   ]
  },
  {
   "cell_type": "markdown",
   "metadata": {},
   "source": [
    "### Conditional Iterator"
   ]
  },
  {
   "cell_type": "code",
   "execution_count": 47,
   "metadata": {},
   "outputs": [
    {
     "data": {
      "text/plain": [
       "[1, -3, 5, 7, -9, 11, 13, -15, 17, 19, -21]"
      ]
     },
     "execution_count": 47,
     "metadata": {},
     "output_type": "execute_result"
    }
   ],
   "source": [
    "[val if val % 3 else -val   #Skips every even and make multiples of three negative\n",
    " for val in range(22) if val % 2]"
   ]
  },
  {
   "cell_type": "markdown",
   "metadata": {},
   "source": [
    "### Set Comprehesion"
   ]
  },
  {
   "cell_type": "code",
   "execution_count": 57,
   "metadata": {},
   "outputs": [
    {
     "data": {
      "text/plain": [
       "{3: 9, 6: 36, 9: 81, 12: 144, 15: 225, 18: 324}"
      ]
     },
     "execution_count": 57,
     "metadata": {},
     "output_type": "execute_result"
    }
   ],
   "source": [
    "{n:n**2 for n in range(3,20,1) if n % 3 == 0} #Displays the square for multiples of 3"
   ]
  },
  {
   "cell_type": "markdown",
   "metadata": {},
   "source": [
    "# Generators"
   ]
  },
  {
   "cell_type": "code",
   "execution_count": 74,
   "metadata": {},
   "outputs": [
    {
     "name": "stdout",
     "output_type": "stream",
     "text": [
      "The Generator will print: <generator object <genexpr> at 0x000002250B7E17D0>\n",
      "1 3 5 7 9 11 13 15 17 19 "
     ]
    }
   ],
   "source": [
    "G = (n + 1 for n in range(20) if n % 2 == 0)\n",
    "print(f\"The Generator will print: {G}\")\n",
    "for val in G:\n",
    "    print(val, end=' ')"
   ]
  },
  {
   "cell_type": "code",
   "execution_count": 83,
   "metadata": {},
   "outputs": [
    {
     "name": "stdout",
     "output_type": "stream",
     "text": [
      "2 4 6 8 10 \n",
      "Midway point\n",
      "12 14 16 18 20 "
     ]
    }
   ],
   "source": [
    "G = (n + 1 for n in range(20) if n % 2 == 1)\n",
    "for val in G:\n",
    "    print(val, end=' ')\n",
    "    if val >= 10: break\n",
    "\n",
    "print(\"\\nMidway point\")\n",
    "\n",
    "for n in G:\n",
    "    print(n, end=' ')"
   ]
  },
  {
   "cell_type": "code",
   "execution_count": 90,
   "metadata": {},
   "outputs": [
    {
     "name": "stdout",
     "output_type": "stream",
     "text": [
      "Generated Even Numbers: [ 2 4 6 8 10 12 14 16 18 20 ]\n"
     ]
    }
   ],
   "source": [
    "def gen():\n",
    "    for n in range(20):\n",
    "        if n % 2 == 1:\n",
    "            yield n + 1\n",
    "        else:\n",
    "            continue\n",
    "\n",
    "G = gen()\n",
    "print('Generated Even Numbers: [',*G,']')"
   ]
  },
  {
   "cell_type": "code",
   "execution_count": 99,
   "metadata": {},
   "outputs": [
    {
     "name": "stdout",
     "output_type": "stream",
     "text": [
      "The fibonacci sequence is: [ 1 2 3 5 8 13 21 34 55 89 ]\n"
     ]
    }
   ],
   "source": [
    "def fibonacci(N, a = 1, b = 1):\n",
    "    fibonacci = set()\n",
    "    for n in range(N):\n",
    "        a, b = b, a + b\n",
    "        fibonacci.add(a)\n",
    "        yield a\n",
    "\n",
    "print(f'The fibonacci sequence is: [',*fibonacci(10),']')\n"
   ]
  },
  {
   "cell_type": "markdown",
   "metadata": {},
   "source": [
    "# Modules and Packages"
   ]
  },
  {
   "cell_type": "code",
   "execution_count": 106,
   "metadata": {},
   "outputs": [
    {
     "data": {
      "text/plain": [
       "-1.0"
      ]
     },
     "execution_count": 106,
     "metadata": {},
     "output_type": "execute_result"
    }
   ],
   "source": [
    "import math\n",
    "math.sin(math.pi*(3/2))"
   ]
  },
  {
   "cell_type": "markdown",
   "metadata": {},
   "source": [
    "- ``os`` and ``sys``: Tools for interfacing with the operating system, including navigating file directory structures and executing shell commands\n",
    "- ``math`` and ``cmath``: Mathematical functions and operations on real and complex numbers\n",
    "- ``itertools``: Tools for constructing and interacting with iterators and generators\n",
    "- ``functools``: Tools that assist with functional programming\n",
    "- ``random``: Tools for generating pseudorandom numbers\n",
    "- ``pickle``: Tools for object persistence: saving objects to and loading objects from disk\n",
    "- ``json`` and ``csv``: Tools for reading JSON-formatted and CSV-formatted files.\n",
    "- ``urllib``: Tools for doing HTTP and other web requests."
   ]
  },
  {
   "cell_type": "code",
   "execution_count": 115,
   "metadata": {},
   "outputs": [
    {
     "name": "stdout",
     "output_type": "stream",
     "text": [
      "9.0\n"
     ]
    }
   ],
   "source": [
    "import cmath\n",
    "x = cmath.sqrt(81)\n",
    "print(x.real)"
   ]
  },
  {
   "cell_type": "markdown",
   "metadata": {},
   "source": [
    "# String Manipulation"
   ]
  },
  {
   "cell_type": "markdown",
   "metadata": {},
   "source": [
    "### Adjusting case"
   ]
  },
  {
   "cell_type": "code",
   "execution_count": 124,
   "metadata": {},
   "outputs": [
    {
     "name": "stdout",
     "output_type": "stream",
     "text": [
      "Original: I lIke tAcOs And bUrrItOs\n",
      "Uppercased: I LIKE TACOS AND BURRITOS\n",
      "Lowercased: i like tacos and burritos\n",
      "The Title: I Like Tacos And Burritos\n",
      "Capitalized: I like tacos and burritos\n",
      "Inverse: i LiKE TaCoS aND BuRRiToS\n"
     ]
    }
   ],
   "source": [
    "Mexican = \"I lIke tAcOs And bUrrItOs\"\n",
    "print(f'Original: {Mexican}')\n",
    "print(f'Uppercased: {Mexican.upper()}')\n",
    "print(f'Lowercased: {Mexican.lower()}')\n",
    "print(f'The Title: {Mexican.title()}')\n",
    "print(f'Capitalized: {Mexican.capitalize()}')\n",
    "print(f'Inverse: {Mexican.swapcase()}')"
   ]
  },
  {
   "cell_type": "markdown",
   "metadata": {},
   "source": [
    "### Adding and removing spaces"
   ]
  },
  {
   "cell_type": "code",
   "execution_count": 165,
   "metadata": {},
   "outputs": [
    {
     "name": "stdout",
     "output_type": "stream",
     "text": [
      "No empty space: Why is this string so long?\n",
      "left side space:        Why is this string so long?\n",
      "right side space:        Why is this string so long?       \n",
      "\n",
      "Number without four: 95363\n",
      "Number with zeros: 0004953634\n"
     ]
    }
   ],
   "source": [
    "line = \"       Why is this string so long?       \"\n",
    "\n",
    "print(f'No empty space: {line.strip()}')\n",
    "print(f'left side space: {line.rstrip()}')\n",
    "print(f'right side space: {line.ljust(5)}')\n",
    "\n",
    "digit = \"4953634\"\n",
    "print(f'\\nNumber without four: {digit.strip('4')}')\n",
    "print(f'Number with zeros: {digit.zfill(10)}')\n"
   ]
  },
  {
   "cell_type": "markdown",
   "metadata": {},
   "source": [
    "### Finding and replacing substrings"
   ]
  },
  {
   "cell_type": "code",
   "execution_count": 8,
   "metadata": {},
   "outputs": [
    {
     "name": "stdout",
     "output_type": "stream",
     "text": [
      "The word is character number 27\n",
      "The new sentence is: My favorite food to eat is burritos and not nachos\n"
     ]
    }
   ],
   "source": [
    "string = 'My favorite food to eat is tacos and not nachos'\n",
    "print('The word is character number', string.index('tacos'))\n",
    "print(f'The new sentence is: {string.replace('tacos','burritos')}')"
   ]
  },
  {
   "cell_type": "markdown",
   "metadata": {},
   "source": [
    "### Format String"
   ]
  },
  {
   "cell_type": "code",
   "execution_count": 6,
   "metadata": {},
   "outputs": [
    {
     "name": "stdout",
     "output_type": "stream",
     "text": [
      "The value of eulers number is 2.718\n",
      "\n",
      "First letter: A. Next letter: B. Last letter: C.\n"
     ]
    }
   ],
   "source": [
    "e = 2.718282\n",
    "print('The value of eulers number is {0:.3f}'.format(e))\n",
    "\n",
    "print(\"\\nFirst letter: {first}. Next letter: {next}. Last letter: {last}.\"\n",
    "      .format(next = 'B', last = 'C', first = 'A'))"
   ]
  },
  {
   "cell_type": "markdown",
   "metadata": {},
   "source": [
    "### Flexible pattern matching"
   ]
  },
  {
   "cell_type": "code",
   "execution_count": 32,
   "metadata": {},
   "outputs": [
    {
     "name": "stdout",
     "output_type": "stream",
     "text": [
      "The string without `A` is: ['My f', 'vorite food to e', 't is t', 'cos ', 'nd not n', 'chos']\n",
      "The new string is: My favorite food to eat is burritos and not nachos\n",
      "The number of a in the string: ['a', 'a', 'a', 'a', 'a']\n",
      "\n",
      "The string without vowels is: ['My f', 'v', 'r', 't', ' f', '', 'd t', ' ', '', 't ', 's t', 'c', 's ', 'nd n', 't n', 'ch', 's']\n"
     ]
    }
   ],
   "source": [
    "import re\n",
    "regex = re.compile('a')\n",
    "print(f'The string without `A` is: {regex.split(string)}')\n",
    "print(f'The new string is: {string.replace('tacos','burritos')}')\n",
    "print(f'The number of a in the string: {regex.findall(string)}')\n",
    "\n",
    "regex = re.compile('[aeiou]')\n",
    "print(f'\\nThe string without vowels is: {regex.split(string)}')"
   ]
  },
  {
   "cell_type": "markdown",
   "metadata": {},
   "source": [
    "# File creation and modification"
   ]
  },
  {
   "cell_type": "code",
   "execution_count": 33,
   "metadata": {},
   "outputs": [
    {
     "name": "stdout",
     "output_type": "stream",
     "text": [
      "These are the heights of my friends in inches: [70, 72, 73, 74, 75, 77]\n",
      "\n",
      "These are the heights of my friends in inches: [70, 72, 73, 74, 75, 77]\n",
      "These are the names of my friends in order: ['Jdub', 'Zach', 'Wesley', 'Colin', 'Michael', 'Corbin']\n"
     ]
    }
   ],
   "source": [
    "H = [70, 72, 73, 74, 75, 77]\n",
    "N = ['Jdub', 'Zach', 'Wesley', 'Colin', 'Michael', 'Corbin']\n",
    "\n",
    "f = open(\"myFile.txt\", \"w\") #open existing file and append new info to end of file\n",
    "f.write('These are the heights of my friends in inches: ')  #write info to file\n",
    "f.write(str(H)) #write info to file\n",
    "f.write('\\n')\n",
    "f.close() #close file\n",
    "\n",
    "f = open(\"myFile.txt\", \"r\") #open file to read\n",
    "print(f.read()) #read file\n",
    "f.close()\n",
    "\n",
    "f = open(\"myFile.txt\", \"a\") #open file to append information\n",
    "f.write('These are the names of my friends in order: ') #write info to file\n",
    "f.write(str(N)) #write info to file\n",
    "f.close()\n",
    "\n",
    "f = open(\"myFile.txt\", \"r\") #open file to read\n",
    "print((f.read()))#read file\n",
    "f.close()"
   ]
  }
 ],
 "metadata": {
  "kernelspec": {
   "display_name": "Python 3",
   "language": "python",
   "name": "python3"
  },
  "language_info": {
   "codemirror_mode": {
    "name": "ipython",
    "version": 3
   },
   "file_extension": ".py",
   "mimetype": "text/x-python",
   "name": "python",
   "nbconvert_exporter": "python",
   "pygments_lexer": "ipython3",
   "version": "3.12.2"
  }
 },
 "nbformat": 4,
 "nbformat_minor": 2
}
