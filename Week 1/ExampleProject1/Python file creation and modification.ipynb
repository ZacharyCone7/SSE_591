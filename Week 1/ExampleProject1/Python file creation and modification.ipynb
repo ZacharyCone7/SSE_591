{
 "cells": [
  {
   "cell_type": "markdown",
   "metadata": {},
   "source": [
    "### Python File Creation, Reading and Writing"
   ]
  },
  {
   "cell_type": "code",
   "execution_count": 66,
   "metadata": {},
   "outputs": [
    {
     "name": "stdout",
     "output_type": "stream",
     "text": [
      "sorted fibo seq: [2, 5, 7, 12, 19, 31, 50, 81, 131, 212]\n",
      "[2, 5, 7, 12, 19, 31, 50, 81, 131, 212]\n"
     ]
    }
   ],
   "source": [
    "def fibonacci(N, a = 2, b = 2):\n",
    "    fibonacci_set = set()\n",
    "    for n in range(N):\n",
    "        a, b = b, a + b\n",
    "        fibonacci_set.add(a)\n",
    "        yield a\n",
    "    return fibonacci_set\n",
    "\n",
    "iterations = int(input('How long is the sequence?'))\n",
    "a = int(input('What is your first variable?'))\n",
    "b = int(input('What is your second variable?'))\n",
    "\n",
    "#print(f'The fibonacci sequence is: [',*fibonacci(iterations, a, b),']')\n",
    "fibonacci_set = fibonacci(iterations, a, b)\n",
    "sort_fibonacci = sorted(list(fibonacci_set))\n",
    "print('sorted fibo seq:', sort_fibonacci)\n",
    "\n",
    "f = open(\"FibonacciSequence.txt\", \"w\")\n",
    "f.write(str(sort_fibonacci))\n",
    "f.close()\n",
    "\n",
    "f = open(\"FibonacciSequence.txt\", \"r\")\n",
    "print(f.read()) #read file\n",
    "f.close()"
   ]
  },
  {
   "cell_type": "code",
   "execution_count": 23,
   "metadata": {},
   "outputs": [
    {
     "name": "stdout",
     "output_type": "stream",
     "text": [
      "These are the heights of my friends in inches: [70, 72, 73, 74, 75, 77]\n",
      "\n",
      "These are the heights of my friends in inches: [70, 72, 73, 74, 75, 77]\n",
      "These are the names of my friends in order: ['Jdub', 'Zach', 'Wesley', 'Colin', 'Michael', 'Corbin']\n"
     ]
    }
   ],
   "source": [
    "\n",
    "\n",
    "f = open(\"myFile.txt\", \"w\") #open existing file and append new info to end of file\n",
    "f.write('These are the heights of my friends in inches: ')  #write info to file\n",
    "f.write(str(H)) #write info to file\n",
    "f.write('\\n')\n",
    "f.close() #close file\n",
    "\n",
    "f = open(\"myFile.txt\", \"r\") #open file to read\n",
    "print(f.read()) #read file\n",
    "f.close()\n",
    "\n",
    "f = open(\"myFile.txt\", \"a\") #open file to append information\n",
    "f.write('These are the names of my friends in order: ') #write info to file\n",
    "f.write(str(N)) #write info to file\n",
    "f.close()\n",
    "\n",
    "f = open(\"myFile.txt\", \"r\") #open file to read\n",
    "print((f.read()))#read file\n",
    "f.close()\n"
   ]
  }
 ],
 "metadata": {
  "kernelspec": {
   "display_name": "Python 3",
   "language": "python",
   "name": "python3"
  },
  "language_info": {
   "codemirror_mode": {
    "name": "ipython",
    "version": 3
   },
   "file_extension": ".py",
   "mimetype": "text/x-python",
   "name": "python",
   "nbconvert_exporter": "python",
   "pygments_lexer": "ipython3",
   "version": "3.12.2"
  }
 },
 "nbformat": 4,
 "nbformat_minor": 2
}
