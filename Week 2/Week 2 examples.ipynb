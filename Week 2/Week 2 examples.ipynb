{
 "cells": [
  {
   "cell_type": "markdown",
   "metadata": {},
   "source": [
    "# Intro to NumPy"
   ]
  },
  {
   "cell_type": "code",
   "execution_count": 149,
   "metadata": {},
   "outputs": [
    {
     "data": {
      "text/plain": [
       "'1.26.4'"
      ]
     },
     "execution_count": 149,
     "metadata": {},
     "output_type": "execute_result"
    }
   ],
   "source": [
    "import numpy as np\n",
    "np.__version__"
   ]
  },
  {
   "cell_type": "markdown",
   "metadata": {},
   "source": [
    "## Understanding Data types in Python"
   ]
  },
  {
   "cell_type": "markdown",
   "metadata": {},
   "source": [
    "### Python integer is more than an integer"
   ]
  },
  {
   "cell_type": "code",
   "execution_count": 23,
   "metadata": {},
   "outputs": [
    {
     "name": "stdout",
     "output_type": "stream",
     "text": [
      "range is: [0, 1, 2, 3, 4, 5, 6, 7, 8, 9, 10, 11, 12, 13, 14, 15, 16, 17, 18, 19]\n",
      "L is a: <class 'int'>\n",
      "range is: ['0', '1', '2', '3', '4', '5', '6', '7', '8', '9', '10', '11', '12', '13', '14', '15', '16', '17', '18', '19']\n",
      "L is a: <class 'str'>\n",
      "The types for each element are: [<class 'bool'>, <class 'float'>, <class 'int'>, <class 'str'>, <class 'NoneType'>]\n"
     ]
    }
   ],
   "source": [
    "L = list(range(20))\n",
    "print(\"range is:\", L)\n",
    "print(\"L is a:\",type(L[1]))\n",
    "\n",
    "L = [str(i) for i in L]\n",
    "print(\"range is:\", L)\n",
    "print(\"L is a:\",type(L[1]))\n",
    "\n",
    "L = [False, 3.0, 7, 'Taco', None]\n",
    "print('The types for each element are:',[type(i) for i in L])\n"
   ]
  },
  {
   "cell_type": "markdown",
   "metadata": {},
   "source": [
    "### Fixed Arrays in Python"
   ]
  },
  {
   "cell_type": "code",
   "execution_count": 34,
   "metadata": {},
   "outputs": [
    {
     "name": "stdout",
     "output_type": "stream",
     "text": [
      "[0, 1, 2, 3, 4, 5, 6, 7, 8, 9]\n",
      "array('I', [0, 1, 2, 3, 4, 5, 6, 7, 8, 9])\n"
     ]
    }
   ],
   "source": [
    "import array\n",
    "L = list(range(10))\n",
    "print(L)\n",
    "A = array.array('I', L)\n",
    "print(A)"
   ]
  },
  {
   "cell_type": "code",
   "execution_count": 56,
   "metadata": {},
   "outputs": [
    {
     "data": {
      "text/plain": [
       "array([3.14, 4.  , 7.  , 3.  ], dtype=float32)"
      ]
     },
     "execution_count": 56,
     "metadata": {},
     "output_type": "execute_result"
    }
   ],
   "source": [
    "import numpy as np\n",
    "#print('The array is:',np.array([3.14, 4, 7.0, 3]))\n",
    "np.array([3.14, 4, 7.0, 3], dtype='float32')\n",
    "#print('The float array is:',np.array([1, 2, 3, 4], dtype='float32'))"
   ]
  },
  {
   "cell_type": "code",
   "execution_count": 59,
   "metadata": {},
   "outputs": [
    {
     "data": {
      "text/plain": [
       "array([[1, 2, 3, 4, 5],\n",
       "       [3, 4, 5, 6, 7],\n",
       "       [5, 6, 7, 8, 9]])"
      ]
     },
     "execution_count": 59,
     "metadata": {},
     "output_type": "execute_result"
    }
   ],
   "source": [
    "np.array([range(i, i + 5) for i in [1, 3, 5]])"
   ]
  },
  {
   "cell_type": "markdown",
   "metadata": {},
   "source": [
    "### Creating Arrays"
   ]
  },
  {
   "cell_type": "code",
   "execution_count": 89,
   "metadata": {},
   "outputs": [
    {
     "name": "stdout",
     "output_type": "stream",
     "text": [
      "Array of float zeros:\n",
      " [[0. 0.]\n",
      " [0. 0.]]\n",
      "\n",
      "Array filled with tacos:\n",
      " [['tacos' 'tacos' 'tacos']\n",
      " ['tacos' 'tacos' 'tacos']\n",
      " ['tacos' 'tacos' 'tacos']]\n",
      "\n",
      "Range of 90 by 10 in an array: [ 0 10 20 30 40 50 60 70 80 90]\n",
      "\n",
      "Five numbers evenly between 0 and 2: [0.  0.5 1.  1.5 2. ]\n",
      "\n",
      "Identity matrix:\n",
      " [[1. 0. 0. 0.]\n",
      " [0. 1. 0. 0.]\n",
      " [0. 0. 1. 0.]\n",
      " [0. 0. 0. 1.]]\n"
     ]
    }
   ],
   "source": [
    "print('Array of float zeros:\\n',np.zeros((2, 2),dtype=float))\n",
    "\n",
    "print('\\nArray filled with tacos:\\n',np.full((3, 3), 'tacos'))\n",
    "\n",
    "print('\\nRange of 90 by 10 in an array:',np.arange(0, 100, 10))\n",
    "\n",
    "print('\\nFive numbers evenly between 0 and 2:',np.linspace(0, 2, 5))\n",
    "\n",
    "print('\\nIdentity matrix:\\n',np.eye(4))"
   ]
  },
  {
   "cell_type": "code",
   "execution_count": 100,
   "metadata": {},
   "outputs": [
    {
     "name": "stdout",
     "output_type": "stream",
     "text": [
      "Randomized array:\n",
      " [[0.68815199 0.38433436]\n",
      " [0.31266998 0.89833294]]\n",
      "\n",
      "Random numbers with a mean of 2:\n",
      " [[1.24881204 3.10866677 1.76029859]\n",
      " [2.19973783 3.81281752 1.84241323]\n",
      " [2.98825865 2.1636643  1.54590469]]\n",
      "\n",
      "Random ints from 0 to 100:\n",
      " [[17 42 49]\n",
      " [18 65 90]\n",
      " [99  6 82]]\n",
      "\n",
      "Uninitialized values: [0.68815199 0.38433436 0.31266998 0.89833294]\n"
     ]
    }
   ],
   "source": [
    "print('Randomized array:\\n',np.random.random((2, 2)))\n",
    "\n",
    "print('\\nRandom numbers with a mean of 2:\\n',np.random.normal(2, 1, (3, 3)))\n",
    "\n",
    "print('\\nRandom ints from 0 to 100:\\n',np.random.randint(0, 100, (3, 3)))\n",
    "\n",
    "print('\\nUninitialized values:',np.empty(4),)"
   ]
  },
  {
   "cell_type": "markdown",
   "metadata": {},
   "source": [
    "### Numpy Standard Data Types"
   ]
  },
  {
   "cell_type": "code",
   "execution_count": 148,
   "metadata": {},
   "outputs": [
    {
     "name": "stdout",
     "output_type": "stream",
     "text": [
      "Boolean Data type: [False False False]\n",
      "Integer Data type: [0 1 2 3 4 5 6 7 8 9]\n",
      "Float Data type:\n",
      " [[1. 0. 0. 0.]\n",
      " [0. 1. 0. 0.]\n",
      " [0. 0. 1. 0.]\n",
      " [0. 0. 0. 1.]]\n",
      "Complex Data type: [1.+0.j 1.+0.j 1.+0.j]\n"
     ]
    }
   ],
   "source": [
    "print('Boolean Data type:',np.zeros(3, dtype='bool_'))\n",
    "\n",
    "print('Integer Data type:',np.arange((10), dtype='intc'))\n",
    "\n",
    "print('Float Data type:\\n',np.eye((4), dtype='float_'))\n",
    "\n",
    "print('Complex Data type:',np.ones(3, dtype='complex_'))"
   ]
  },
  {
   "cell_type": "markdown",
   "metadata": {},
   "source": [
    "## Basics to NumPy Arrays"
   ]
  },
  {
   "cell_type": "markdown",
   "metadata": {},
   "source": [
    "### NumPy Array Attributes"
   ]
  },
  {
   "cell_type": "code",
   "execution_count": 86,
   "metadata": {},
   "outputs": [
    {
     "name": "stdout",
     "output_type": "stream",
     "text": [
      "N dimension: 3\n",
      "N shape: (2, 7, 6)\n",
      "N size: 84\n",
      "\n",
      "dtype: int32\n",
      "itemsize: 4 bytes\n",
      "nbytes: 336 bytes\n",
      "\n",
      "2D array:\n",
      " [[2 4 7 6]\n",
      " [8 8 1 6]\n",
      " [7 7 8 1]\n",
      " [5 9 8 9]]\n",
      "\n",
      "Specific line of array:\n",
      " [5 9 8 9]\n",
      "\n",
      "Specific value of array: 8\n",
      "\n",
      "Insertion of value into array [2 9 8 9]\n"
     ]
    }
   ],
   "source": [
    "import numpy as np\n",
    "\n",
    "L = np.random.randint(10, size=3)  # One-dimensional array\n",
    "M = np.random.randint(10, size=(4, 4))  # Two-dimensional array\n",
    "N = np.random.randint(10, size=(2, 7, 6))  # Three-dimensional array\n",
    "\n",
    "print(\"N dimension:\", N.ndim)\n",
    "print(\"N shape:\", N.shape)\n",
    "print(\"N size:\", N.size)\n",
    "\n",
    "print(\"\\ndtype:\", N.dtype)\n",
    "print(\"itemsize:\", N.itemsize, \"bytes\")\n",
    "print(\"nbytes:\", N.nbytes, \"bytes\")\n",
    "\n",
    "print('\\n2D array:\\n',M)\n",
    "print('\\nSpecific line of array:\\n',M[3])\n",
    "print('\\nSpecific value of array:',M[3,2])\n",
    "\n",
    "\n",
    "M[3, 0]=2.72 #Value will be truncated\n",
    "print('\\nInsertion of value into array',M[3])"
   ]
  },
  {
   "cell_type": "markdown",
   "metadata": {},
   "source": [
    "### One Dimensional Array Slicing"
   ]
  },
  {
   "cell_type": "code",
   "execution_count": 80,
   "metadata": {},
   "outputs": [
    {
     "name": "stdout",
     "output_type": "stream",
     "text": [
      "Whole array: [ 0  2  4  6  8 10 12 14 16 18]\n",
      "First half: [0 2 4 6 8]\n",
      "Second half: [10 12 14 16 18]\n",
      "Middle section: [ 6  8 10 12]\n",
      "Every other starting at 2: [16 12  8  4  0]\n"
     ]
    }
   ],
   "source": [
    "Z = np.arange(0,20,2)\n",
    "\n",
    "print('Whole array:', Z)\n",
    "print('First half:', Z[:5])\n",
    "print('Second half:', Z[5:])\n",
    "print('Middle section:', Z[3:7])\n",
    "print('Every other starting at 2:', Z[8::-2])"
   ]
  },
  {
   "cell_type": "markdown",
   "metadata": {},
   "source": [
    "### Two Dimensional Array Slicing"
   ]
  },
  {
   "cell_type": "code",
   "execution_count": 81,
   "metadata": {},
   "outputs": [
    {
     "name": "stdout",
     "output_type": "stream",
     "text": [
      "2D array:\n",
      " [[4 2 6 8]\n",
      " [2 2 7 2]\n",
      " [3 2 6 1]\n",
      " [2 3 6 7]]\n",
      "\n",
      "The last three rows and columns:\n",
      " [[2 6 1]\n",
      " [3 6 7]]\n",
      "\n",
      "Inverted 2D array:\n",
      " [[7 6 3 2]\n",
      " [1 6 2 3]\n",
      " [2 7 2 2]\n",
      " [8 6 2 4]]\n"
     ]
    }
   ],
   "source": [
    "print('2D array:\\n',M)\n",
    "print('\\nThe last three rows and columns:\\n',M[2:, 1:])\n",
    "print('\\nInverted 2D array:\\n',M[::-1, ::-1])"
   ]
  },
  {
   "cell_type": "code",
   "execution_count": 22,
   "metadata": {},
   "outputs": [
    {
     "name": "stdout",
     "output_type": "stream",
     "text": [
      "2D array:\n",
      " [[8 9 8 2]\n",
      " [4 5 4 1]\n",
      " [7 3 7 1]\n",
      " [2 0 6 4]]\n",
      "Middle of 2D array:\n",
      " [[5 4]\n",
      " [3 7]]\n",
      "Altered 2D array:\n",
      " [[69  4]\n",
      " [ 3  7]]\n",
      "Copy of 2D array:\n",
      " [[ 8  9  8  2]\n",
      " [ 4 69  4  1]\n",
      " [ 7  3  7  1]\n",
      " [ 2  0  6  4]]\n",
      "Altered copy of 2D array:\n",
      " [[49  9  8  2]\n",
      " [ 4 69  4  1]\n",
      " [ 7  3  7  1]\n",
      " [ 2  0  6  4]]\n",
      "Orignal 2D array:\n",
      " [[ 8  9  8  2]\n",
      " [ 4 69  4  1]\n",
      " [ 7  3  7  1]\n",
      " [ 2  0  6  4]]\n"
     ]
    }
   ],
   "source": [
    "print('2D array:\\n',M)\n",
    "M_sub = M[1:3, 1:3]\n",
    "print('Middle of 2D array:\\n',M_sub)\n",
    "\n",
    "M_sub[0, 0] = 69\n",
    "print('Altered 2D array:\\n',M_sub)\n",
    "\n",
    "M_sub_copy = M[0:, 0:].copy()\n",
    "print('Copy of 2D array:\\n',M_sub_copy)\n",
    "\n",
    "M_sub_copy[0, 0] = 49\n",
    "print('Altered copy of 2D array:\\n',M_sub_copy)\n",
    "\n",
    "print('Orignal 2D array:\\n',M)\n"
   ]
  },
  {
   "cell_type": "markdown",
   "metadata": {},
   "source": [
    "### Reshaping of arrays"
   ]
  },
  {
   "cell_type": "code",
   "execution_count": 82,
   "metadata": {},
   "outputs": [
    {
     "name": "stdout",
     "output_type": "stream",
     "text": [
      "Here is the 4x4 grid of the range of 1 to 16:\n",
      " [[ 1  2  3  4]\n",
      " [ 5  6  7  8]\n",
      " [ 9 10 11 12]\n",
      " [13 14 15 16]]\n",
      "Reshaped 1x4 array to 2x2:\n",
      " [[7 6]\n",
      " [3 8]]\n",
      "Reshaped 1x4 array to 4x1:\n",
      " [[7]\n",
      " [6]\n",
      " [3]\n",
      " [8]]\n"
     ]
    }
   ],
   "source": [
    "a = np.arange(1, 17).reshape((4, 4))\n",
    "print('Here is the 4x4 grid of the range of 1 to 16:\\n',a)\n",
    "\n",
    "a2 = np.array([7, 6, 3, 8])\n",
    "print('Reshaped 1x4 array to 2x2:\\n',a2.reshape((2,2)))\n",
    "\n",
    "print('Reshaped 1x4 array to 4x1:\\n',a2[:, np.newaxis])"
   ]
  },
  {
   "cell_type": "markdown",
   "metadata": {},
   "source": [
    "### Concatenation of arrays"
   ]
  },
  {
   "cell_type": "code",
   "execution_count": 83,
   "metadata": {},
   "outputs": [
    {
     "name": "stdout",
     "output_type": "stream",
     "text": [
      "The combined array is: [7 3 6 9 5 2]\n",
      "\n",
      "The 3D array is: [7 3 6 9 5 2 7 7 7]\n",
      "\n",
      "The horizontal stacked array is:\n",
      " [[6 3 8 6 3 8]\n",
      " [9 5 2 9 5 2]]\n",
      "\n",
      "The horizontal stacked array is:\n",
      " [[6 3 8]\n",
      " [9 5 2]\n",
      " [6 3 8]\n",
      " [9 5 2]]\n"
     ]
    }
   ],
   "source": [
    "x = np.array([7, 3, 6])\n",
    "y = np.array([9, 5, 2])\n",
    "print('The combined array is:',np.concatenate([x, y]))\n",
    "\n",
    "z = [7, 7, 7]\n",
    "print('\\nThe 3D array is:',np.concatenate([x, y, z]))\n",
    "\n",
    "Q = np.array([[6, 3, 8],\n",
    "              [9, 5, 2]])\n",
    "print('\\nThe horizontal stacked array is:\\n',np.concatenate([Q, Q],axis = 1))\n",
    "print('\\nThe horizontal stacked array is:\\n',np.vstack([Q, Q]))\n"
   ]
  },
  {
   "cell_type": "markdown",
   "metadata": {},
   "source": [
    "### Splitting of arrays"
   ]
  },
  {
   "cell_type": "code",
   "execution_count": 84,
   "metadata": {},
   "outputs": [
    {
     "name": "stdout",
     "output_type": "stream",
     "text": [
      "The split up array in three sections: [7 2] [ 6 49 43  8] [1 5]\n",
      "\n",
      "Left side of the 4x4 array:\n",
      " [[ 0  1]\n",
      " [ 4  5]\n",
      " [ 8  9]\n",
      " [12 13]]\n",
      "\n",
      "Right side of the 4x4 array:\n",
      " [[ 2  3]\n",
      " [ 6  7]\n",
      " [10 11]\n",
      " [14 15]]\n"
     ]
    }
   ],
   "source": [
    "x = [7, 2, 6, 49, 43, 8, 1, 5]\n",
    "x1, x2, x3 = np.split(x, [2, 6])\n",
    "print('The split up array in three sections:',x1, x2, x3)\n",
    "\n",
    "grid = np.arange(16).reshape((4,4))\n",
    "left, right = np.hsplit(grid, [2])\n",
    "print('\\nLeft side of the 4x4 array:\\n',left)\n",
    "print('\\nRight side of the 4x4 array:\\n',right)"
   ]
  },
  {
   "cell_type": "markdown",
   "metadata": {},
   "source": [
    "# Univeral Functions"
   ]
  },
  {
   "cell_type": "markdown",
   "metadata": {},
   "source": [
    "### The slowness of loops"
   ]
  },
  {
   "cell_type": "code",
   "execution_count": 90,
   "metadata": {},
   "outputs": [
    {
     "data": {
      "text/plain": [
       "array([0.14285714, 0.125     , 0.5       , 0.33333333, 0.33333333])"
      ]
     },
     "execution_count": 90,
     "metadata": {},
     "output_type": "execute_result"
    }
   ],
   "source": [
    "import numpy as np\n",
    "\n",
    "def compute_reciprocals(values):\n",
    "    output = np.empty(len(values))\n",
    "    for i in range(len(values)):\n",
    "        output[i] = 1.0 / values[i]\n",
    "    return output\n",
    "        \n",
    "values = np.random.randint(1, 10, size=5)\n",
    "compute_reciprocals(values)\n",
    "\n",
    "#big_array = np.random.randint(1, 100, size=1000000)\n",
    "#%timeit compute_reciprocals(big_array)"
   ]
  },
  {
   "cell_type": "code",
   "execution_count": 88,
   "metadata": {},
   "outputs": [
    {
     "name": "stdout",
     "output_type": "stream",
     "text": [
      "[0.33333333 0.125      0.33333333 0.33333333 0.25      ]\n",
      "[0.33333333 0.125      0.33333333 0.33333333 0.25      ]\n",
      "2.37 ms ± 34.3 µs per loop (mean ± std. dev. of 7 runs, 100 loops each)\n"
     ]
    }
   ],
   "source": [
    "print(compute_reciprocals(values))\n",
    "print(1.0 / values)\n",
    "\n",
    "%timeit (1.0 / big_array)"
   ]
  },
  {
   "cell_type": "code",
   "execution_count": 130,
   "metadata": {},
   "outputs": [
    {
     "name": "stdout",
     "output_type": "stream",
     "text": [
      "The base array is:\n",
      " [[0 1 2]\n",
      " [3 4 5]\n",
      " [6 7 8]]\n",
      "Each cell is increased by 3:\n",
      " [[ 3  4  5]\n",
      " [ 6  7  8]\n",
      " [ 9 10 11]]\n",
      "Each cell is decreased by 3:\n",
      " [[-3 -2 -1]\n",
      " [ 0  1  2]\n",
      " [ 3  4  5]]\n",
      "Each cell is multiplied by 2:\n",
      " [[ 0  2  4]\n",
      " [ 6  8 10]\n",
      " [12 14 16]]\n",
      "Each cell is divided by 2:\n",
      " [[0.  0.5 1. ]\n",
      " [1.5 2.  2.5]\n",
      " [3.  3.5 4. ]]\n",
      "Each cell is floor divided by 2:\n",
      " [[0 0 1]\n",
      " [1 2 2]\n",
      " [3 3 4]]\n"
     ]
    }
   ],
   "source": [
    "x = np.arange(9).reshape((3, 3))\n",
    "\n",
    "print(\"The base array is:\\n\", x)\n",
    "print(\"Each cell is increased by 3:\\n\", x + 3)\n",
    "print(\"Each cell is decreased by 3:\\n\", np.subtract(x, 3))\n",
    "print(\"Each cell is multiplied by 2:\\n\", x * 2)\n",
    "print(\"Each cell is divided by 2:\\n\", np.divide(x, 2))\n",
    "print(\"Each cell is floor divided by 2:\\n\", x // 2)"
   ]
  },
  {
   "cell_type": "code",
   "execution_count": 132,
   "metadata": {},
   "outputs": [
    {
     "name": "stdout",
     "output_type": "stream",
     "text": [
      "The inverse of the array is:\n",
      " [[ 0 -1 -2]\n",
      " [-3 -4 -5]\n",
      " [-6 -7 -8]]\n",
      "Each cell is raised to the power of 2:\n",
      " [[ 0  1  4]\n",
      " [ 9 16 25]\n",
      " [36 49 64]]\n",
      "The remainder of the array is 2:\n",
      " [[0 1 0]\n",
      " [1 0 1]\n",
      " [0 1 0]]\n",
      "The combination of array arithmetic:\n",
      " [[  -9  -25  -49]\n",
      " [ -81 -121 -169]\n",
      " [-225 -289 -361]]\n"
     ]
    }
   ],
   "source": [
    "x = np.arange(9).reshape((3, 3))\n",
    "\n",
    "print(\"The inverse of the array is:\\n\", np.negative(x))\n",
    "print(\"Each cell is raised to the power of 2:\\n\", x ** 2)\n",
    "print(\"The remainder of the array is 2:\\n\", np.mod(x, 2))\n",
    "\n",
    "print(\"The combination of array arithmetic:\\n\", -(2*x + 3) ** 2)\n"
   ]
  },
  {
   "cell_type": "markdown",
   "metadata": {},
   "source": [
    "### Absolute value"
   ]
  },
  {
   "cell_type": "code",
   "execution_count": 147,
   "metadata": {},
   "outputs": [
    {
     "name": "stdout",
     "output_type": "stream",
     "text": [
      "The inverse array is:\n",
      " [[ 0 -1 -2]\n",
      " [-3 -4 -5]\n",
      " [-6 -7 -8]]\n",
      "The absolute value of the array is:\n",
      " [[0 1 2]\n",
      " [3 4 5]\n",
      " [6 7 8]]\n",
      "The absolute value of the array is:\n",
      " [ 5. 13.  6.  7.]\n"
     ]
    }
   ],
   "source": [
    "x = np.arange(9).reshape((3, 3))\n",
    "x2 = np.negative(x)\n",
    "print('The inverse array is:\\n',x2)\n",
    "print('The absolute value of the array is:\\n', np.absolute(x2))\n",
    "\n",
    "x3 = np.array([3 + 4j, 12 - 5j, 6 + 0j, 0 + 7j])\n",
    "print('The absolute value of the array is:\\n', np.abs(x3))"
   ]
  },
  {
   "cell_type": "markdown",
   "metadata": {},
   "source": [
    "### Trigonometric functions"
   ]
  },
  {
   "cell_type": "code",
   "execution_count": 159,
   "metadata": {},
   "outputs": [
    {
     "name": "stdout",
     "output_type": "stream",
     "text": [
      "theta      =  [0.         2.0943951  4.1887902  6.28318531]\n",
      "sin(theta) =  [ 0.00000000e+00  8.66025404e-01 -8.66025404e-01 -2.44929360e-16]\n",
      "cos(theta) =  [ 1.  -0.5 -0.5  1. ]\n",
      "tan(theta) =  [ 0.00000000e+00 -1.73205081e+00  1.73205081e+00 -2.44929360e-16]\n"
     ]
    }
   ],
   "source": [
    "theta = np.linspace(0, np.pi*2, 4)\n",
    "\n",
    "print(\"theta      = \", theta)\n",
    "print(\"sin(theta) = \", np.sin(theta))\n",
    "print(\"cos(theta) = \", np.cos(theta))\n",
    "print(\"tan(theta) = \", np.tan(theta))"
   ]
  },
  {
   "cell_type": "code",
   "execution_count": 169,
   "metadata": {},
   "outputs": [
    {
     "name": "stdout",
     "output_type": "stream",
     "text": [
      "x         =  [-1, 0, 1]\n",
      "arcsin(x) =  [-1.57079633  0.          1.57079633]\n",
      "arccos(x) =  [3.14159265 1.57079633 0.        ]\n",
      "arctan(x) =  [-0.78539816  0.          0.78539816]\n"
     ]
    }
   ],
   "source": [
    "x = [-1, 0, 1]\n",
    "print(\"x         = \", x)\n",
    "print(\"arcsin(x) = \", np.arcsin(x))\n",
    "print(\"arccos(x) = \", np.arccos(x))\n",
    "print(\"arctan(x) = \", np.arctan(x))"
   ]
  },
  {
   "cell_type": "markdown",
   "metadata": {},
   "source": [
    "### Exponents and logarithms"
   ]
  },
  {
   "cell_type": "code",
   "execution_count": 194,
   "metadata": {},
   "outputs": [
    {
     "name": "stdout",
     "output_type": "stream",
     "text": [
      "e to the power of x: [  7.3890561   54.59815003 403.42879349]\n",
      "x squared: [ 4 16 36]\n",
      "x cubed: [  8  64 216]\n",
      "\n",
      "ln(x)    : [0.         1.09861229 1.60943791 1.94591015]\n",
      "log2(x)  : [0.         1.5849625  2.32192809 2.80735492]\n",
      "log10(x) : [0.         0.47712125 0.69897    0.84509804]\n",
      "\n",
      "exp(x) - 1: [0.         0.00501252 0.0512711  0.64872127]\n",
      "log(1 + x): [0.         0.00498754 0.04879016 0.40546511]\n"
     ]
    }
   ],
   "source": [
    "x = [2, 4, 6]\n",
    "\n",
    "print(\"e to the power of x:\", np.exp(x))\n",
    "print(\"x squared:\", np.power(x, 2))\n",
    "print(\"x cubed:\", np.power(x, 3))\n",
    "\n",
    "y = [1,3,5,7]\n",
    "print(\"\\nln(x)    :\", np.log(y))\n",
    "print(\"log2(x)  :\", np.log2(y))\n",
    "print(\"log10(x) :\", np.log10(y))\n",
    "\n",
    "z = [0, .005, .05, .5]\n",
    "print(\"\\nexp(x) - 1:\", np.expm1(z))\n",
    "print(\"log(1 + x):\", np.log1p(z))"
   ]
  },
  {
   "cell_type": "markdown",
   "metadata": {},
   "source": [
    "### Specialized unfuncs"
   ]
  },
  {
   "cell_type": "code",
   "execution_count": 203,
   "metadata": {},
   "outputs": [
    {
     "name": "stdout",
     "output_type": "stream",
     "text": [
      "gamma(x)     = [1.00e+00 6.00e+00 5.04e+03]\n",
      "ln|gamma(x)| = [0.         1.79175947 8.52516136]\n",
      "beta(x, 3)   = [0.08333333 0.01666667 0.00277778]\n",
      "erf(y)  = [0.         0.27632639 0.52049988 0.71115563 0.84270079]\n",
      "erfc(y) = [1.         0.72367361 0.47950012 0.28884437 0.15729921]\n",
      "erfinv(y) = [0.         0.22531206 0.47693628 0.81341985        inf]\n"
     ]
    }
   ],
   "source": [
    "from scipy import special\n",
    "\n",
    "x = [2, 4, 8]\n",
    "print(\"gamma(x)     =\", special.gamma(x))\n",
    "print(\"ln|gamma(x)| =\", special.gammaln(x))\n",
    "print(\"beta(x, 3)   =\", special.beta(x, 3))\n",
    "\n",
    "y = np.array([0, 0.25, 0.5, .75, 1.0])\n",
    "print(\"erf(y)  =\", special.erf(y))\n",
    "print(\"erfc(y) =\", special.erfc(y))\n",
    "print(\"erfinv(y) =\", special.erfinv(y))"
   ]
  },
  {
   "cell_type": "markdown",
   "metadata": {},
   "source": [
    "## Advanced Ufunc features"
   ]
  },
  {
   "cell_type": "markdown",
   "metadata": {},
   "source": [
    "### Specifying output"
   ]
  },
  {
   "cell_type": "code",
   "execution_count": 213,
   "metadata": {},
   "outputs": [
    {
     "name": "stdout",
     "output_type": "stream",
     "text": [
      "Here is the multiples of 10 from 1 to 9:\n",
      " [ 0. 10. 20. 30. 40. 50. 60. 70. 80. 90.]\n"
     ]
    }
   ],
   "source": [
    "x = np.arange(10)\n",
    "y = np.empty(10)\n",
    "np.multiply(x, 10, out=y)\n",
    "print('Here is the multiples of 10 from 1 to 9:\\n',y)"
   ]
  },
  {
   "cell_type": "markdown",
   "metadata": {},
   "source": [
    "### Aggregates"
   ]
  },
  {
   "cell_type": "code",
   "execution_count": 238,
   "metadata": {},
   "outputs": [
    {
     "name": "stdout",
     "output_type": "stream",
     "text": [
      "20\n",
      "[ 2  5  9 14 20]\n",
      "720\n",
      "[  2   6  24 120 720]\n"
     ]
    },
    {
     "data": {
      "text/plain": [
       "array([[ 4,  6,  8, 10, 12],\n",
       "       [ 6,  9, 12, 15, 18],\n",
       "       [ 8, 12, 16, 20, 24],\n",
       "       [10, 15, 20, 25, 30],\n",
       "       [12, 18, 24, 30, 36]])"
      ]
     },
     "execution_count": 238,
     "metadata": {},
     "output_type": "execute_result"
    }
   ],
   "source": [
    "x = np.arange(2, 7)\n",
    "print(np.add.reduce(x))\n",
    "print(np.add.accumulate(x))\n",
    "\n",
    "print(np.multiply.reduce(x))\n",
    "print(np.multiply.accumulate(x))\n",
    "\n",
    "np.multiply.outer(x, x)"
   ]
  },
  {
   "cell_type": "markdown",
   "metadata": {},
   "source": [
    "# Min, Max and Everything in Between"
   ]
  },
  {
   "cell_type": "markdown",
   "metadata": {},
   "source": [
    "### Summing the values in an array"
   ]
  },
  {
   "cell_type": "code",
   "execution_count": 286,
   "metadata": {},
   "outputs": [
    {
     "name": "stdout",
     "output_type": "stream",
     "text": [
      "The sum of 10 numbers: 5.5112627811158275\n"
     ]
    }
   ],
   "source": [
    "import numpy as np\n",
    "L = np.random.random(10)\n",
    "print('The sum of 10 numbers:',np.sum(L))"
   ]
  },
  {
   "cell_type": "markdown",
   "metadata": {},
   "source": [
    "### Minimum and Maximum"
   ]
  },
  {
   "cell_type": "code",
   "execution_count": 295,
   "metadata": {},
   "outputs": [
    {
     "name": "stdout",
     "output_type": "stream",
     "text": [
      "Minimum of random numbers: 0.0019277898256591097\n",
      "Maximum of random numbers: 0.9997375374315752\n",
      "Sum of random numbers: 498.8851506922663\n"
     ]
    }
   ],
   "source": [
    "big_array = np.random.rand(1000)\n",
    "print('Minimum of random numbers:',big_array.min())\n",
    "print('Maximum of random numbers:',big_array.max())\n",
    "print('Sum of random numbers:',big_array.sum())"
   ]
  },
  {
   "cell_type": "markdown",
   "metadata": {},
   "source": [
    "### Multi Dimensional aggregates"
   ]
  },
  {
   "cell_type": "code",
   "execution_count": 349,
   "metadata": {},
   "outputs": [
    {
     "name": "stdout",
     "output_type": "stream",
     "text": [
      "Sum of random array: 6.63277133127297\n",
      "Minimum of first row of array: [0.58013941 0.53337749 0.05755804 0.27638218]\n",
      "Maximum of first column of array: [0.83075601 0.89630554 0.58013941]\n",
      "Mean of random array: 0.5527309442727475\n",
      "Product of random array: 6.926844769585629e-05\n"
     ]
    }
   ],
   "source": [
    "M = np.random.random((3, 4))\n",
    "print('Sum of random array:',M.sum())\n",
    "print('Minimum of first row of array:',M.min(axis=0))\n",
    "print('Maximum of first column of array:',M.max(axis=1))\n",
    "print('Mean of random array:',M.mean())\n",
    "print('Product of random array:',M.prod())"
   ]
  },
  {
   "cell_type": "markdown",
   "metadata": {},
   "source": [
    "# Broadcasting"
   ]
  },
  {
   "cell_type": "markdown",
   "metadata": {},
   "source": [
    "### Introducing Broadcasting"
   ]
  },
  {
   "cell_type": "code",
   "execution_count": 2,
   "metadata": {},
   "outputs": [
    {
     "ename": "ModuleNotFoundError",
     "evalue": "No module named 'numpy'",
     "output_type": "error",
     "traceback": [
      "\u001b[1;31m---------------------------------------------------------------------------\u001b[0m",
      "\u001b[1;31mModuleNotFoundError\u001b[0m                       Traceback (most recent call last)",
      "Cell \u001b[1;32mIn[2], line 1\u001b[0m\n\u001b[1;32m----> 1\u001b[0m \u001b[38;5;28;01mimport\u001b[39;00m \u001b[38;5;21;01mnumpy\u001b[39;00m \u001b[38;5;28;01mas\u001b[39;00m \u001b[38;5;21;01mnp\u001b[39;00m\n\u001b[0;32m      2\u001b[0m a \u001b[38;5;241m=\u001b[39m np\u001b[38;5;241m.\u001b[39marray([\u001b[38;5;241m2\u001b[39m, \u001b[38;5;241m4\u001b[39m, \u001b[38;5;241m6\u001b[39m])\n\u001b[0;32m      3\u001b[0m b \u001b[38;5;241m=\u001b[39m np\u001b[38;5;241m.\u001b[39marray([\u001b[38;5;241m3\u001b[39m, \u001b[38;5;241m3\u001b[39m, \u001b[38;5;241m3\u001b[39m])\n",
      "\u001b[1;31mModuleNotFoundError\u001b[0m: No module named 'numpy'"
     ]
    }
   ],
   "source": [
    "import numpy as np\n",
    "a = np.array([2, 4, 6])\n",
    "b = np.array([3, 3, 3])\n",
    "print('Combination of similar arrays:',a + b)\n",
    "\n",
    "c = np.ones((3,3))\n",
    "\n",
    "print('\\nCombination of different arrays:\\n',a + c)"
   ]
  },
  {
   "cell_type": "code",
   "execution_count": 369,
   "metadata": {},
   "outputs": [
    {
     "name": "stdout",
     "output_type": "stream",
     "text": [
      "The broadcasted arrays make:\n",
      " [[0 1 2 3]\n",
      " [1 2 3 4]\n",
      " [2 3 4 5]\n",
      " [3 4 5 6]]\n"
     ]
    }
   ],
   "source": [
    "a = np.arange(4)\n",
    "b = np.arange(4)[:, np.newaxis]\n",
    "\n",
    "print('The broadcasted arrays make:\\n',a + b)"
   ]
  },
  {
   "cell_type": "code",
   "execution_count": 383,
   "metadata": {},
   "outputs": [
    {
     "name": "stdout",
     "output_type": "stream",
     "text": [
      "The product of the broadcast is:\n",
      " [[1.31326169 1.31326169 1.31326169 1.31326169]\n",
      " [1.69314718 1.69314718 1.69314718 1.69314718]\n",
      " [2.31326169 2.31326169 2.31326169 2.31326169]\n",
      " [3.12692801 3.12692801 3.12692801 3.12692801]]\n"
     ]
    }
   ],
   "source": [
    "M = np.ones((4, 4))\n",
    "a = np.arange(4)\n",
    "M + a[:, np.newaxis]\n",
    "print('The product of the broadcast is:\\n',np.logaddexp(M, a[:, np.newaxis]))"
   ]
  },
  {
   "cell_type": "markdown",
   "metadata": {},
   "source": [
    "### Centering an array"
   ]
  },
  {
   "cell_type": "code",
   "execution_count": 395,
   "metadata": {},
   "outputs": [
    {
     "name": "stdout",
     "output_type": "stream",
     "text": [
      "[0.29570445 0.52741205 0.5937208  0.36973418]\n",
      "[-1.58603289e-17  4.75809868e-17  1.58603289e-17 -6.34413157e-17]\n"
     ]
    }
   ],
   "source": [
    "i = np.random.random((7,4))\n",
    "imean = i.mean(0)\n",
    "print(imean)\n",
    "i_centered = i -imean\n",
    "print(i_centered.mean(0))"
   ]
  },
  {
   "cell_type": "markdown",
   "metadata": {},
   "source": [
    "# Comparisons, Masks and Boolean Logic"
   ]
  },
  {
   "cell_type": "markdown",
   "metadata": {},
   "source": [
    "### Comparison Operators as ufuncs"
   ]
  },
  {
   "cell_type": "code",
   "execution_count": 6,
   "metadata": {},
   "outputs": [
    {
     "name": "stdout",
     "output_type": "stream",
     "text": [
      "Cells results for less than:\n",
      " [ True  True False False False]\n",
      "\n",
      "Cells results for greater than:\n",
      " [False False False  True  True]\n",
      "\n",
      "Cells results for less than or equal to:\n",
      " [ True  True  True False False]\n",
      "\n",
      "Cells results for greater than or equal to:\n",
      " [False False  True  True  True]\n",
      "\n",
      "Cells results for does not equal 4:\n",
      " [ True  True False  True  True]\n",
      "\n",
      "Cells results for equals 4:\n",
      " [False False  True False False]\n"
     ]
    }
   ],
   "source": [
    "x = np.array([0, 2, 4, 6, 8])\n",
    "print('Cells results for less than:\\n',x < 4)\n",
    "print('\\nCells results for greater than:\\n',x > 4)\n",
    "print('\\nCells results for less than or equal to:\\n',x <= 4)\n",
    "print('\\nCells results for greater than or equal to:\\n',x >= 4)\n",
    "print('\\nCells results for does not equal 4:\\n',x != 4)\n",
    "print('\\nCells results for equals 4:\\n',x == 4)"
   ]
  },
  {
   "cell_type": "code",
   "execution_count": 7,
   "metadata": {},
   "outputs": [
    {
     "name": "stdout",
     "output_type": "stream",
     "text": [
      "The boolean of results for each cell:\n",
      " [[ True False False  True]\n",
      " [False False  True False]\n",
      " [ True  True False  True]\n",
      " [ True False  True  True]]\n",
      "Number of values less than or equal to 5:\n",
      " 9\n",
      "Values in each row less than 5:\n",
      " [2 1 3 2]\n",
      "Any values greater than 8?\n",
      " True\n",
      "All values greater than 2?\n",
      " False\n"
     ]
    }
   ],
   "source": [
    "array = np.random.RandomState(5)\n",
    "x = array.randint(10, size=(4, 4))\n",
    "print('The boolean of results for each cell:\\n',x <= 5)\n",
    "print('Number of values less than or equal to 5:\\n',np.count_nonzero(x <= 5))\n",
    "print('Values in each row less than 5:\\n',np.sum(x < 5,axis = 1))\n",
    "print('Any values greater than 8?\\n',np.any(x > 8))\n",
    "print('All values greater than 2?\\n',np.all(x > 2))"
   ]
  },
  {
   "cell_type": "code",
   "execution_count": 8,
   "metadata": {},
   "outputs": [
    {
     "data": {
      "text/plain": [
       "array([False, False, False, False, False,  True,  True,  True, False,\n",
       "       False])"
      ]
     },
     "execution_count": 8,
     "metadata": {},
     "output_type": "execute_result"
    }
   ],
   "source": [
    "bool(42), bool(0)\n",
    "bool(42 and 0)\n",
    "bool(42 or 0)\n",
    "\n",
    "A = np.array([1, 0, 1, 0, 1, 0], dtype=bool)\n",
    "B = np.array([1, 1, 1, 0, 1, 1], dtype=bool)\n",
    "A | B\n",
    "\n",
    "x = np.arange(10)\n",
    "(x > 4) & (x < 8)"
   ]
  },
  {
   "cell_type": "markdown",
   "metadata": {},
   "source": [
    "# Fancy Indexing"
   ]
  },
  {
   "cell_type": "markdown",
   "metadata": {},
   "source": [
    "### Exploring Fancy Idexing"
   ]
  },
  {
   "cell_type": "code",
   "execution_count": 29,
   "metadata": {},
   "outputs": [
    {
     "name": "stdout",
     "output_type": "stream",
     "text": [
      "The whole random array: [ 1 35 57 40 73 82 68 69 52  1]\n",
      "The specific numbers at index 8, 2 and 4: [52, 57, 73]\n"
     ]
    }
   ],
   "source": [
    "import numpy as np\n",
    "rand = np.random.RandomState(99)\n",
    "\n",
    "x = rand.randint(100, size=10)\n",
    "print('The whole random array:',x)\n",
    "\n",
    "print('The specific numbers at index 8, 2 and 4:',[x[8], x[2], x[4]])"
   ]
  },
  {
   "cell_type": "code",
   "execution_count": 38,
   "metadata": {},
   "outputs": [
    {
     "name": "stdout",
     "output_type": "stream",
     "text": [
      "The specific numbers at index 3, 7 and 4: [82 40  1]\n"
     ]
    }
   ],
   "source": [
    "index = [5, 3, 9]\n",
    "print('The specific numbers at index 5, 3 and 9:',x[index])"
   ]
  },
  {
   "cell_type": "code",
   "execution_count": 40,
   "metadata": {},
   "outputs": [
    {
     "name": "stdout",
     "output_type": "stream",
     "text": [
      "The specific numbers at index 5, 3, 9 and 6:\n",
      " [[82 40]\n",
      " [ 1 68]]\n"
     ]
    }
   ],
   "source": [
    "index = np.array([[5, 3],\n",
    "                  [9, 6]])\n",
    "print('The specific numbers at index 5, 3, 9 and 6:\\n',x[index])"
   ]
  },
  {
   "cell_type": "code",
   "execution_count": 51,
   "metadata": {},
   "outputs": [
    {
     "name": "stdout",
     "output_type": "stream",
     "text": [
      "The 4x4 array is:\n",
      " [[2 6 6 2]\n",
      " [7 0 3 7]\n",
      " [5 1 6 7]\n",
      " [3 9 7 9]]\n",
      "\n",
      "The specified locations of cells in the array: [6 0 7]\n"
     ]
    }
   ],
   "source": [
    "x = array.randint(10, size=(4, 4))\n",
    "print('The 4x4 array is:\\n',x)\n",
    "row = np.array([0, 1, 2])\n",
    "col = np.array([2, 1, 3])\n",
    "print('\\nThe specified locations of cells in the array:',x[row, col])"
   ]
  },
  {
   "cell_type": "markdown",
   "metadata": {},
   "source": [
    "### Combined Indexing"
   ]
  },
  {
   "cell_type": "code",
   "execution_count": 58,
   "metadata": {},
   "outputs": [
    {
     "name": "stdout",
     "output_type": "stream",
     "text": [
      "The 4x4 array is:\n",
      " [[2 6 6 2]\n",
      " [7 0 3 7]\n",
      " [5 1 6 7]\n",
      " [3 9 7 9]]\n",
      "\n",
      "The cells in the third row of the array in a certain order: [6 5 1]\n",
      "\n",
      "The cells in the third row of the array in a certain order:\n",
      " [[3 7 0]\n",
      " [6 5 1]\n",
      " [7 3 9]]\n"
     ]
    }
   ],
   "source": [
    "print('The 4x4 array is:\\n',x)\n",
    "print('\\nThe cells in the third row of the array in a certain order:',x[2, [2, 0, 1]])\n",
    "print('\\nThe cells in the third row of the array in a certain order:\\n',x[1:, [2, 0, 1]])"
   ]
  },
  {
   "cell_type": "code",
   "execution_count": 77,
   "metadata": {},
   "outputs": [
    {
     "name": "stdout",
     "output_type": "stream",
     "text": [
      "The first modified change is: [ 0 69  2  3 69  5 69  7  8 69]\n",
      "The second modified change is: [ 0 49  2  3 49  5 49  7  8 49]\n"
     ]
    }
   ],
   "source": [
    "x = np.arange(10)\n",
    "i = np.array([1, 4, 9, 6])\n",
    "x[i] = 69\n",
    "print('The first modified change is:',x)\n",
    "x[i] -= 20\n",
    "print('The second modified change is:',x)"
   ]
  },
  {
   "cell_type": "code",
   "execution_count": 97,
   "metadata": {},
   "outputs": [
    {
     "name": "stdout",
     "output_type": "stream",
     "text": [
      "The base array ready to be modified: [3. 0. 7. 0. 0. 0. 0. 0. 0. 0.]\n",
      "The modified array with one indexed at the above locations: [3. 1. 8. 1. 1. 0. 0. 1. 0. 1.]\n",
      "The modified array with one indexed at the above locations: [ 3.  3. 10.  3.  3.  0.  0.  3.  0.  3.]\n"
     ]
    }
   ],
   "source": [
    "x = np.zeros(10)\n",
    "x[[0, 2]] = [3, 7]\n",
    "print('The base array ready to be modified:',x)\n",
    "\n",
    "i = [2, 7, 4, 9, 1, 3]\n",
    "x[i] += 1   #One way to write an incremental index\n",
    "print('The modified array with one indexed at the above locations:',x)\n",
    "\n",
    "np.add.at(x, i, 2)  #Another way to write the incremental index\n",
    "print('The modified array with one indexed at the above locations:',x)"
   ]
  },
  {
   "cell_type": "markdown",
   "metadata": {},
   "source": [
    "# Sorting arrays"
   ]
  }
 ],
 "metadata": {
  "kernelspec": {
   "display_name": "Python 3",
   "language": "python",
   "name": "python3"
  },
  "language_info": {
   "codemirror_mode": {
    "name": "ipython",
    "version": 3
   },
   "file_extension": ".py",
   "mimetype": "text/x-python",
   "name": "python",
   "nbconvert_exporter": "python",
   "pygments_lexer": "ipython3",
   "version": "3.12.2"
  }
 },
 "nbformat": 4,
 "nbformat_minor": 2
}
