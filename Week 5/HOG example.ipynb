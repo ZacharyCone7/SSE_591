{
 "cells": [
  {
   "cell_type": "code",
   "execution_count": 15,
   "metadata": {},
   "outputs": [],
   "source": [
    "import matplotlib.pyplot as plt\n",
    "import seaborn as sns\n",
    "import numpy as np\n",
    "from skimage import data, color, feature, io, transform\n",
    "import skimage.data\n",
    "import os\n",
    "from sklearn.datasets import fetch_lfw_people\n",
    "from sklearn.svm import SVC \n",
    "from sklearn.cluster import KMeans\n",
    "from sklearn.decomposition import PCA\n",
    "from sklearn.preprocessing import LabelEncoder\n",
    "from sklearn.model_selection import train_test_split"
   ]
  },
  {
   "cell_type": "code",
   "execution_count": 16,
   "metadata": {},
   "outputs": [
    {
     "name": "stdout",
     "output_type": "stream",
     "text": [
      "['Ariel Sharon' 'Colin Powell' 'Donald Rumsfeld' 'George W Bush'\n",
      " 'Gerhard Schroeder' 'Hugo Chavez' 'Junichiro Koizumi' 'Tony Blair']\n"
     ]
    }
   ],
   "source": [
    "faces = fetch_lfw_people(min_faces_per_person=60)\n",
    "print(faces.target_names)"
   ]
  },
  {
   "cell_type": "code",
   "execution_count": 17,
   "metadata": {},
   "outputs": [
    {
     "name": "stdout",
     "output_type": "stream",
     "text": [
      "(1348,)\n"
     ]
    }
   ],
   "source": [
    "images = []\n",
    "labels = []\n",
    "\n",
    "# convert lists to NumPy Arrays\n",
    "X = faces.images                  # features matrix\n",
    "y = faces.target            # target vector\n",
    "\n",
    "# Extract HOG features from each image\n",
    "hog_features = []\n",
    "for image in X:\n",
    "    features = feature.hog(image, orientations=9, pixels_per_cell=(8, 8), cells_per_block=(2, 2), block_norm='L2-Hys')\n",
    "    hog_features.append(features)\n",
    "\n",
    "# Convert HOG features and labels to numpy arrays\n",
    "President = np.array(hog_features)\n",
    "Name = LabelEncoder().fit_transform(y)\n",
    "print(Name.shape)"
   ]
  },
  {
   "cell_type": "code",
   "execution_count": 19,
   "metadata": {},
   "outputs": [
    {
     "name": "stdout",
     "output_type": "stream",
     "text": [
      "Accuracy: 0.7876543209876543\n",
      "                   precision    recall  f1-score   support\n",
      "\n",
      "     Ariel Sharon       0.65      0.69      0.67        16\n",
      "     Colin Powell       0.79      0.78      0.79        83\n",
      "  Donald Rumsfeld       0.81      0.69      0.75        32\n",
      "    George W Bush       0.88      0.87      0.87       153\n",
      "Gerhard Schroeder       0.67      0.78      0.72        41\n",
      "      Hugo Chavez       0.79      0.62      0.70        24\n",
      "Junichiro Koizumi       0.84      0.84      0.84        19\n",
      "       Tony Blair       0.61      0.68      0.64        37\n",
      "\n",
      "         accuracy                           0.79       405\n",
      "        macro avg       0.75      0.74      0.75       405\n",
      "     weighted avg       0.79      0.79      0.79       405\n",
      "\n"
     ]
    },
    {
     "data": {
      "image/png": "[encoded data removed]",
      "text/plain": [
       "<Figure size 1200x600 with 2 Axes>"
      ]
     },
     "metadata": {},
     "output_type": "display_data"
    }
   ],
   "source": [
    "President = X.reshape(X.shape[0], -1)     # convert dataset to be [n_samples, n_features]\n",
    "\n",
    "Xtrain, Xtest, ytrain, ytest = train_test_split(President, Name, test_size=0.3, random_state=99)\n",
    "\n",
    " # Train SVM\n",
    "from sklearn.metrics import accuracy_score, classification_report\n",
    "model = SVC(kernel='rbf', class_weight='balanced')\n",
    "model.fit(Xtrain, ytrain)\n",
    "\n",
    "# Make predictions on the test set\n",
    "y_pred = model.predict(Xtest)\n",
    "\n",
    "# Evaluate the classifier\n",
    "print(f'Accuracy: {accuracy_score(ytest, y_pred)}')\n",
    "print(classification_report(ytest, y_pred, target_names=faces.target_names))\n",
    "\n",
    "# Plot an example of HOG features for visualization\n",
    "image = X[2]\n",
    "hog_image = feature.hog(image, orientations=9, pixels_per_cell=(8, 8), cells_per_block=(2, 2), block_norm='L2-Hys', visualize=True)[1]\n",
    "\n",
    "plt.figure(figsize=(12, 6))\n",
    "plt.subplot(1, 2, 1)\n",
    "plt.axis('off')\n",
    "plt.imshow(image, cmap=plt.cm.gray)\n",
    "plt.title('Original Image')\n",
    "\n",
    "plt.subplot(1, 2, 2)\n",
    "plt.axis('off')\n",
    "plt.imshow(hog_image, cmap=plt.cm.gray)\n",
    "plt.title('HOG Features')\n",
    "plt.show()"
   ]
  }
 ],
 "metadata": {
  "kernelspec": {
   "display_name": "Python 3",
   "language": "python",
   "name": "python3"
  },
  "language_info": {
   "codemirror_mode": {
    "name": "ipython",
    "version": 3
   },
   "file_extension": ".py",
   "mimetype": "text/x-python",
   "name": "python",
   "nbconvert_exporter": "python",
   "pygments_lexer": "ipython3",
   "version": "3.12.2"
  }
 },
 "nbformat": 4,
 "nbformat_minor": 2
}
